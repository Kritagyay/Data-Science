{
 "cells": [
  {
   "cell_type": "markdown",
   "id": "084e784a",
   "metadata": {},
   "source": [
    "## Introduction"
   ]
  },
  {
   "cell_type": "code",
   "execution_count": 4,
   "id": "4bfaea9e",
   "metadata": {},
   "outputs": [],
   "source": [
    "import numpy as np"
   ]
  },
  {
   "cell_type": "code",
   "execution_count": 5,
   "id": "6cf79ba9",
   "metadata": {},
   "outputs": [],
   "source": [
    "a1=np.array([2,3,4,5,6])"
   ]
  },
  {
   "cell_type": "code",
   "execution_count": 6,
   "id": "bc212a74",
   "metadata": {},
   "outputs": [
    {
     "data": {
      "text/plain": [
       "array([2, 3, 4, 5, 6])"
      ]
     },
     "execution_count": 6,
     "metadata": {},
     "output_type": "execute_result"
    }
   ],
   "source": [
    "a1"
   ]
  },
  {
   "cell_type": "code",
   "execution_count": 7,
   "id": "8ae5e94e",
   "metadata": {},
   "outputs": [
    {
     "data": {
      "text/plain": [
       "array([[ 1, 23,  4],\n",
       "       [ 3,  4,  5]])"
      ]
     },
     "execution_count": 7,
     "metadata": {},
     "output_type": "execute_result"
    }
   ],
   "source": [
    "a2=np.array([[1,23,4],[3,4,5]])\n",
    "a2"
   ]
  },
  {
   "cell_type": "code",
   "execution_count": 8,
   "id": "6b3c4ba6",
   "metadata": {},
   "outputs": [
    {
     "data": {
      "text/plain": [
       "array([[[ 1,  2,  3],\n",
       "        [ 4,  5,  6],\n",
       "        [ 7,  8,  9]],\n",
       "\n",
       "       [[10, 11, 12],\n",
       "        [13, 14, 15],\n",
       "        [16, 17, 18]]])"
      ]
     },
     "execution_count": 8,
     "metadata": {},
     "output_type": "execute_result"
    }
   ],
   "source": [
    "a3=np.array([[[1,2,3],\n",
    "              [4,5,6],\n",
    "              [7,8,9]],\n",
    "             [[10,11,12],\n",
    "              [13,14,15],\n",
    "              [16,17,18]]])\n",
    "a3"
   ]
  },
  {
   "cell_type": "code",
   "execution_count": 9,
   "id": "af7d8037",
   "metadata": {},
   "outputs": [
    {
     "data": {
      "text/plain": [
       "dtype('int32')"
      ]
     },
     "execution_count": 9,
     "metadata": {},
     "output_type": "execute_result"
    }
   ],
   "source": [
    "a1.dtype"
   ]
  },
  {
   "cell_type": "code",
   "execution_count": 10,
   "id": "2d40455f",
   "metadata": {},
   "outputs": [
    {
     "data": {
      "text/plain": [
       "dtype('int32')"
      ]
     },
     "execution_count": 10,
     "metadata": {},
     "output_type": "execute_result"
    }
   ],
   "source": [
    "a2.dtype"
   ]
  },
  {
   "cell_type": "code",
   "execution_count": 11,
   "id": "eea24da4",
   "metadata": {},
   "outputs": [
    {
     "data": {
      "text/plain": [
       "dtype('int32')"
      ]
     },
     "execution_count": 11,
     "metadata": {},
     "output_type": "execute_result"
    }
   ],
   "source": [
    "a3.dtype"
   ]
  },
  {
   "cell_type": "code",
   "execution_count": 12,
   "id": "d68d13b8",
   "metadata": {},
   "outputs": [
    {
     "data": {
      "text/plain": [
       "((5,), (2, 3), (2, 3, 3))"
      ]
     },
     "execution_count": 12,
     "metadata": {},
     "output_type": "execute_result"
    }
   ],
   "source": [
    "a1.shape,a2.shape,a3.shape"
   ]
  },
  {
   "cell_type": "code",
   "execution_count": 13,
   "id": "a79e9cc4",
   "metadata": {},
   "outputs": [
    {
     "data": {
      "text/plain": [
       "(numpy.ndarray, numpy.ndarray, numpy.ndarray)"
      ]
     },
     "execution_count": 13,
     "metadata": {},
     "output_type": "execute_result"
    }
   ],
   "source": [
    "type(a1),type(a2),type(a3)"
   ]
  },
  {
   "cell_type": "code",
   "execution_count": 14,
   "id": "c339cda6",
   "metadata": {},
   "outputs": [
    {
     "data": {
      "text/plain": [
       "(1, 2, 3)"
      ]
     },
     "execution_count": 14,
     "metadata": {},
     "output_type": "execute_result"
    }
   ],
   "source": [
    "a1.ndim,a2.ndim,a3.ndim"
   ]
  },
  {
   "cell_type": "code",
   "execution_count": 15,
   "id": "0fb68c67",
   "metadata": {},
   "outputs": [
    {
     "data": {
      "text/plain": [
       "(5, 6, 18)"
      ]
     },
     "execution_count": 15,
     "metadata": {},
     "output_type": "execute_result"
    }
   ],
   "source": [
    "a1.size,a2.size,a3.size"
   ]
  },
  {
   "cell_type": "code",
   "execution_count": 16,
   "id": "89cd2f72",
   "metadata": {},
   "outputs": [],
   "source": [
    "import pandas as pd "
   ]
  },
  {
   "cell_type": "code",
   "execution_count": 17,
   "id": "8d52826e",
   "metadata": {},
   "outputs": [
    {
     "data": {
      "text/html": [
       "<div>\n",
       "<style scoped>\n",
       "    .dataframe tbody tr th:only-of-type {\n",
       "        vertical-align: middle;\n",
       "    }\n",
       "\n",
       "    .dataframe tbody tr th {\n",
       "        vertical-align: top;\n",
       "    }\n",
       "\n",
       "    .dataframe thead th {\n",
       "        text-align: right;\n",
       "    }\n",
       "</style>\n",
       "<table border=\"1\" class=\"dataframe\">\n",
       "  <thead>\n",
       "    <tr style=\"text-align: right;\">\n",
       "      <th></th>\n",
       "      <th>0</th>\n",
       "      <th>1</th>\n",
       "      <th>2</th>\n",
       "    </tr>\n",
       "  </thead>\n",
       "  <tbody>\n",
       "    <tr>\n",
       "      <th>a</th>\n",
       "      <td>1</td>\n",
       "      <td>23</td>\n",
       "      <td>4</td>\n",
       "    </tr>\n",
       "    <tr>\n",
       "      <th>b</th>\n",
       "      <td>3</td>\n",
       "      <td>4</td>\n",
       "      <td>5</td>\n",
       "    </tr>\n",
       "  </tbody>\n",
       "</table>\n",
       "</div>"
      ],
      "text/plain": [
       "   0   1  2\n",
       "a  1  23  4\n",
       "b  3   4  5"
      ]
     },
     "execution_count": 17,
     "metadata": {},
     "output_type": "execute_result"
    }
   ],
   "source": [
    "df=pd.DataFrame(a2,index=(\"a\",\"b\"))\n",
    "df"
   ]
  },
  {
   "cell_type": "markdown",
   "id": "9eda7b33",
   "metadata": {},
   "source": [
    "## Creating a NumPy Array"
   ]
  },
  {
   "cell_type": "code",
   "execution_count": 18,
   "id": "fb2feaa2",
   "metadata": {},
   "outputs": [
    {
     "data": {
      "text/plain": [
       "array([1, 5, 6, 8])"
      ]
     },
     "execution_count": 18,
     "metadata": {},
     "output_type": "execute_result"
    }
   ],
   "source": [
    "sample_array=np.array([1,5,6,8])\n",
    "sample_array"
   ]
  },
  {
   "cell_type": "code",
   "execution_count": 19,
   "id": "de79816e",
   "metadata": {},
   "outputs": [
    {
     "data": {
      "text/plain": [
       "array([[1., 1., 1., 1.],\n",
       "       [1., 1., 1., 1.]])"
      ]
     },
     "execution_count": 19,
     "metadata": {},
     "output_type": "execute_result"
    }
   ],
   "source": [
    "ones_array=np.ones((2,4))\n",
    "ones_array"
   ]
  },
  {
   "cell_type": "code",
   "execution_count": 20,
   "id": "c3898b8d",
   "metadata": {},
   "outputs": [
    {
     "data": {
      "text/plain": [
       "(2, 4)"
      ]
     },
     "execution_count": 20,
     "metadata": {},
     "output_type": "execute_result"
    }
   ],
   "source": [
    "ones_array.shape"
   ]
  },
  {
   "cell_type": "code",
   "execution_count": 21,
   "id": "2dd78bfb",
   "metadata": {},
   "outputs": [
    {
     "data": {
      "text/plain": [
       "array([0, 1, 2, 3, 4, 5, 6, 7, 8, 9])"
      ]
     },
     "execution_count": 21,
     "metadata": {},
     "output_type": "execute_result"
    }
   ],
   "source": [
    "a1=np.arange(0,10)\n",
    "a1"
   ]
  },
  {
   "cell_type": "code",
   "execution_count": 22,
   "id": "c5dfdb77",
   "metadata": {},
   "outputs": [
    {
     "data": {
      "text/plain": [
       "array([0, 3, 6, 9])"
      ]
     },
     "execution_count": 22,
     "metadata": {},
     "output_type": "execute_result"
    }
   ],
   "source": [
    "a2=np.arange(0,10,3)\n",
    "a2"
   ]
  },
  {
   "cell_type": "code",
   "execution_count": 23,
   "id": "426588f0",
   "metadata": {},
   "outputs": [
    {
     "data": {
      "text/plain": [
       "array([14,  6, 12, 11,  3, 10,  2, 10, 11,  2])"
      ]
     },
     "execution_count": 23,
     "metadata": {},
     "output_type": "execute_result"
    }
   ],
   "source": [
    "a3=np.random.randint(2,15,10)\n",
    "a3"
   ]
  },
  {
   "cell_type": "code",
   "execution_count": 24,
   "id": "91200ec6",
   "metadata": {},
   "outputs": [
    {
     "data": {
      "text/plain": [
       "array([[0.11381078, 0.5100682 , 0.59632568, 0.50664283, 0.77555884]])"
      ]
     },
     "execution_count": 24,
     "metadata": {},
     "output_type": "execute_result"
    }
   ],
   "source": [
    "a4=np.random.rand(1,5)\n",
    "a4"
   ]
  },
  {
   "cell_type": "code",
   "execution_count": 25,
   "id": "cea39354",
   "metadata": {},
   "outputs": [
    {
     "data": {
      "text/plain": [
       "array([[0.5488135 , 0.71518937, 0.60276338, 0.54488318, 0.4236548 ],\n",
       "       [0.64589411, 0.43758721, 0.891773  , 0.96366276, 0.38344152],\n",
       "       [0.79172504, 0.52889492, 0.56804456, 0.92559664, 0.07103606],\n",
       "       [0.0871293 , 0.0202184 , 0.83261985, 0.77815675, 0.87001215]])"
      ]
     },
     "execution_count": 25,
     "metadata": {},
     "output_type": "execute_result"
    }
   ],
   "source": [
    "np.random.seed(0)\n",
    "a5=np.random.random(size=(4,5))\n",
    "a5"
   ]
  },
  {
   "cell_type": "markdown",
   "id": "f5805172",
   "metadata": {},
   "source": [
    "## Viewing Array and Matries"
   ]
  },
  {
   "cell_type": "code",
   "execution_count": 26,
   "id": "9f56e763",
   "metadata": {},
   "outputs": [
    {
     "data": {
      "text/plain": [
       "array([[[[ 2,  3,  8,  1,  3],\n",
       "         [13,  3,  3, 14,  7],\n",
       "         [ 0,  1,  9,  9,  0],\n",
       "         [10,  4,  7,  3, 14]],\n",
       "\n",
       "        [[11,  2,  7, 12,  2],\n",
       "         [ 0,  0,  4,  5,  5],\n",
       "         [ 6,  8,  4,  1,  4],\n",
       "         [ 9, 10, 10,  8,  1]],\n",
       "\n",
       "        [[ 1,  7,  9,  9,  3],\n",
       "         [ 6,  7, 11, 14,  2],\n",
       "         [11,  0, 14,  3,  5],\n",
       "         [12,  9, 10,  4, 11]]],\n",
       "\n",
       "\n",
       "       [[[ 4,  6,  4,  4,  3],\n",
       "         [12,  4,  4,  8, 14],\n",
       "         [ 4,  3, 10,  7, 13],\n",
       "         [ 5,  5,  0,  1,  5]],\n",
       "\n",
       "        [[ 9,  3,  0,  5, 14],\n",
       "         [ 0,  1,  2,  4,  2],\n",
       "         [ 0, 13,  3,  2, 10],\n",
       "         [13,  0,  7,  5,  9]],\n",
       "\n",
       "        [[ 0, 10,  2, 11, 10],\n",
       "         [ 7, 11,  2,  9,  2],\n",
       "         [14,  3, 14, 11,  3],\n",
       "         [ 2, 14,  3,  4,  1]]]])"
      ]
     },
     "execution_count": 26,
     "metadata": {},
     "output_type": "execute_result"
    }
   ],
   "source": [
    "ar=np.random.randint(0,15,size=(2,3,4,5))\n",
    "ar"
   ]
  },
  {
   "cell_type": "code",
   "execution_count": 27,
   "id": "246e6c00",
   "metadata": {},
   "outputs": [
    {
     "data": {
      "text/plain": [
       "array([[[[ 2,  3,  8,  1,  3],\n",
       "         [13,  3,  3, 14,  7],\n",
       "         [ 0,  1,  9,  9,  0],\n",
       "         [10,  4,  7,  3, 14]],\n",
       "\n",
       "        [[11,  2,  7, 12,  2],\n",
       "         [ 0,  0,  4,  5,  5],\n",
       "         [ 6,  8,  4,  1,  4],\n",
       "         [ 9, 10, 10,  8,  1]],\n",
       "\n",
       "        [[ 1,  7,  9,  9,  3],\n",
       "         [ 6,  7, 11, 14,  2],\n",
       "         [11,  0, 14,  3,  5],\n",
       "         [12,  9, 10,  4, 11]]],\n",
       "\n",
       "\n",
       "       [[[ 4,  6,  4,  4,  3],\n",
       "         [12,  4,  4,  8, 14],\n",
       "         [ 4,  3, 10,  7, 13],\n",
       "         [ 5,  5,  0,  1,  5]],\n",
       "\n",
       "        [[ 9,  3,  0,  5, 14],\n",
       "         [ 0,  1,  2,  4,  2],\n",
       "         [ 0, 13,  3,  2, 10],\n",
       "         [13,  0,  7,  5,  9]],\n",
       "\n",
       "        [[ 0, 10,  2, 11, 10],\n",
       "         [ 7, 11,  2,  9,  2],\n",
       "         [14,  3, 14, 11,  3],\n",
       "         [ 2, 14,  3,  4,  1]]]])"
      ]
     },
     "execution_count": 27,
     "metadata": {},
     "output_type": "execute_result"
    }
   ],
   "source": [
    "ar[:,:,:,]"
   ]
  },
  {
   "cell_type": "markdown",
   "id": "2a17bc59",
   "metadata": {},
   "source": [
    "## Airthmetic operation on array"
   ]
  },
  {
   "cell_type": "code",
   "execution_count": 28,
   "id": "e8864bee",
   "metadata": {},
   "outputs": [
    {
     "data": {
      "text/plain": [
       "array([0, 1, 2, 3, 4, 5, 6, 7, 8, 9])"
      ]
     },
     "execution_count": 28,
     "metadata": {},
     "output_type": "execute_result"
    }
   ],
   "source": [
    "a1"
   ]
  },
  {
   "cell_type": "code",
   "execution_count": 29,
   "id": "61c1e622",
   "metadata": {},
   "outputs": [
    {
     "data": {
      "text/plain": [
       "array([0, 3, 6, 9])"
      ]
     },
     "execution_count": 29,
     "metadata": {},
     "output_type": "execute_result"
    }
   ],
   "source": [
    "a2"
   ]
  },
  {
   "cell_type": "code",
   "execution_count": 30,
   "id": "f0ff237d",
   "metadata": {},
   "outputs": [
    {
     "data": {
      "text/plain": [
       "array([14,  6, 12, 11,  3, 10,  2, 10, 11,  2])"
      ]
     },
     "execution_count": 30,
     "metadata": {},
     "output_type": "execute_result"
    }
   ],
   "source": [
    "a3"
   ]
  },
  {
   "cell_type": "code",
   "execution_count": 31,
   "id": "64764b74",
   "metadata": {},
   "outputs": [
    {
     "data": {
      "text/plain": [
       "array([[0.11381078, 0.5100682 , 0.59632568, 0.50664283, 0.77555884]])"
      ]
     },
     "execution_count": 31,
     "metadata": {},
     "output_type": "execute_result"
    }
   ],
   "source": [
    "a4"
   ]
  },
  {
   "cell_type": "code",
   "execution_count": 32,
   "id": "07b450e3",
   "metadata": {},
   "outputs": [
    {
     "data": {
      "text/plain": [
       "array([ 0,  5, 10, 15, 20, 25, 30, 35, 40, 45])"
      ]
     },
     "execution_count": 32,
     "metadata": {},
     "output_type": "execute_result"
    }
   ],
   "source": [
    "a1*5"
   ]
  },
  {
   "cell_type": "code",
   "execution_count": 33,
   "id": "5f43f1bd",
   "metadata": {},
   "outputs": [
    {
     "data": {
      "text/plain": [
       "array([0. , 0.5, 1. , 1.5, 2. , 2.5, 3. , 3.5, 4. , 4.5])"
      ]
     },
     "execution_count": 33,
     "metadata": {},
     "output_type": "execute_result"
    }
   ],
   "source": [
    "a1/2"
   ]
  },
  {
   "cell_type": "code",
   "execution_count": 34,
   "id": "7263b9fc",
   "metadata": {},
   "outputs": [],
   "source": [
    "array=np.array([1,9,7,3,12])"
   ]
  },
  {
   "cell_type": "code",
   "execution_count": 35,
   "id": "3af2da77",
   "metadata": {
    "collapsed": true
   },
   "outputs": [
    {
     "ename": "ValueError",
     "evalue": "operands could not be broadcast together with shapes (10,) (5,) ",
     "output_type": "error",
     "traceback": [
      "\u001b[1;31m---------------------------------------------------------------------------\u001b[0m",
      "\u001b[1;31mValueError\u001b[0m                                Traceback (most recent call last)",
      "Cell \u001b[1;32mIn[35], line 1\u001b[0m\n\u001b[1;32m----> 1\u001b[0m a1\u001b[38;5;241m+\u001b[39marray\n",
      "\u001b[1;31mValueError\u001b[0m: operands could not be broadcast together with shapes (10,) (5,) "
     ]
    }
   ],
   "source": [
    "a1+array"
   ]
  },
  {
   "cell_type": "code",
   "execution_count": 36,
   "id": "d6459c0d",
   "metadata": {},
   "outputs": [
    {
     "ename": "ValueError",
     "evalue": "operands could not be broadcast together with shapes (10,) (5,) ",
     "output_type": "error",
     "traceback": [
      "\u001b[1;31m---------------------------------------------------------------------------\u001b[0m",
      "\u001b[1;31mValueError\u001b[0m                                Traceback (most recent call last)",
      "Cell \u001b[1;32mIn[36], line 1\u001b[0m\n\u001b[1;32m----> 1\u001b[0m a1\u001b[38;5;241m*\u001b[39marray\n",
      "\u001b[1;31mValueError\u001b[0m: operands could not be broadcast together with shapes (10,) (5,) "
     ]
    }
   ],
   "source": [
    "a1*array"
   ]
  },
  {
   "cell_type": "code",
   "execution_count": 37,
   "id": "e51c3b8d",
   "metadata": {},
   "outputs": [
    {
     "ename": "ValueError",
     "evalue": "operands could not be broadcast together with shapes (10,) (4,) ",
     "output_type": "error",
     "traceback": [
      "\u001b[1;31m---------------------------------------------------------------------------\u001b[0m",
      "\u001b[1;31mValueError\u001b[0m                                Traceback (most recent call last)",
      "Cell \u001b[1;32mIn[37], line 1\u001b[0m\n\u001b[1;32m----> 1\u001b[0m a1\u001b[38;5;241m*\u001b[39ma2\n",
      "\u001b[1;31mValueError\u001b[0m: operands could not be broadcast together with shapes (10,) (4,) "
     ]
    }
   ],
   "source": [
    "a1*a2"
   ]
  },
  {
   "cell_type": "code",
   "execution_count": 38,
   "id": "f8c3e860",
   "metadata": {},
   "outputs": [],
   "source": [
    "a1=np.array([1,2,6,4,7,8])"
   ]
  },
  {
   "cell_type": "code",
   "execution_count": 39,
   "id": "5b973676",
   "metadata": {},
   "outputs": [],
   "source": [
    "a1=a1.reshape(2,3)"
   ]
  },
  {
   "cell_type": "code",
   "execution_count": 40,
   "id": "33854980",
   "metadata": {},
   "outputs": [
    {
     "ename": "ValueError",
     "evalue": "operands could not be broadcast together with shapes (2,3) (4,) ",
     "output_type": "error",
     "traceback": [
      "\u001b[1;31m---------------------------------------------------------------------------\u001b[0m",
      "\u001b[1;31mValueError\u001b[0m                                Traceback (most recent call last)",
      "Cell \u001b[1;32mIn[40], line 1\u001b[0m\n\u001b[1;32m----> 1\u001b[0m a1\u001b[38;5;241m*\u001b[39ma2\n",
      "\u001b[1;31mValueError\u001b[0m: operands could not be broadcast together with shapes (2,3) (4,) "
     ]
    }
   ],
   "source": [
    "a1*a2"
   ]
  },
  {
   "cell_type": "markdown",
   "id": "d8196c18",
   "metadata": {},
   "source": [
    "## Aggregation\n",
    "making things into cluster\n"
   ]
  },
  {
   "cell_type": "code",
   "execution_count": 41,
   "id": "d94dab55",
   "metadata": {},
   "outputs": [],
   "source": [
    "lis1=[1,24,67,8,8]"
   ]
  },
  {
   "cell_type": "code",
   "execution_count": null,
   "id": "d04777bd",
   "metadata": {},
   "outputs": [],
   "source": [
    "sum(lis1)"
   ]
  },
  {
   "cell_type": "code",
   "execution_count": null,
   "id": "a32cdc9e",
   "metadata": {},
   "outputs": [],
   "source": [
    "a=np.random.random(10)\n",
    "a"
   ]
  },
  {
   "cell_type": "code",
   "execution_count": null,
   "id": "99bc61fc",
   "metadata": {},
   "outputs": [],
   "source": [
    "#There is a difference in the sum of python ((sum())) and numpy sums i.e np.sum()\n",
    "%timeit sum(a)\n",
    "%timeit np.sum(a)"
   ]
  },
  {
   "cell_type": "code",
   "execution_count": null,
   "id": "d5b171a7",
   "metadata": {},
   "outputs": [],
   "source": [
    "np.mean(a1)"
   ]
  },
  {
   "cell_type": "code",
   "execution_count": null,
   "id": "2422851b",
   "metadata": {},
   "outputs": [],
   "source": [
    "np.max(a2)"
   ]
  },
  {
   "cell_type": "code",
   "execution_count": null,
   "id": "c2dbc331",
   "metadata": {},
   "outputs": [],
   "source": [
    "np.min(a2)"
   ]
  },
  {
   "cell_type": "code",
   "execution_count": null,
   "id": "1fd0f648",
   "metadata": {},
   "outputs": [],
   "source": [
    "np.std(a2)"
   ]
  },
  {
   "cell_type": "code",
   "execution_count": null,
   "id": "972447d2",
   "metadata": {},
   "outputs": [],
   "source": [
    "np.var(a2)"
   ]
  },
  {
   "cell_type": "markdown",
   "id": "43e1235e",
   "metadata": {},
   "source": [
    "## Standard Deviation and Variance"
   ]
  },
  {
   "cell_type": "code",
   "execution_count": null,
   "id": "1d30960d",
   "metadata": {},
   "outputs": [],
   "source": [
    "high_arr=np.array([1,10,100,200,4000,5000])\n",
    "low_array=np.array([2,4,6,8])"
   ]
  },
  {
   "cell_type": "code",
   "execution_count": null,
   "id": "1185588d",
   "metadata": {},
   "outputs": [],
   "source": [
    "np.var(high_arr)"
   ]
  },
  {
   "cell_type": "code",
   "execution_count": null,
   "id": "fc91c65c",
   "metadata": {},
   "outputs": [],
   "source": [
    "np.var(low_array)"
   ]
  },
  {
   "cell_type": "code",
   "execution_count": null,
   "id": "56499a1d",
   "metadata": {},
   "outputs": [],
   "source": [
    "np.std(high_arr)"
   ]
  },
  {
   "cell_type": "code",
   "execution_count": null,
   "id": "6b3de1a0",
   "metadata": {},
   "outputs": [],
   "source": [
    "np.sqrt(np.var(high_arr))"
   ]
  },
  {
   "cell_type": "markdown",
   "id": "cb215788",
   "metadata": {},
   "source": [
    "##  Butter sales stock report"
   ]
  },
  {
   "cell_type": "code",
   "execution_count": null,
   "id": "464ab35f",
   "metadata": {},
   "outputs": [],
   "source": [
    "butter_sales=np.random.randint(10,size=(5,3))\n",
    "butter_sales"
   ]
  },
  {
   "cell_type": "code",
   "execution_count": null,
   "id": "c1cd3419",
   "metadata": {},
   "outputs": [],
   "source": [
    "import pandas as pd\n",
    "sales=pd.DataFrame(butter_sales,index=[\"Mon\",\"Tues\",\"Wed\",\"Thu\",\"Fri\"],\n",
    "                         columns=(\"Almond Butter\",\"Peanut Butter\",\"Cashew Butter\"))\n",
    "sales"
   ]
  },
  {
   "cell_type": "code",
   "execution_count": null,
   "id": "504ca55a",
   "metadata": {},
   "outputs": [],
   "source": [
    "price=np.array([10,9,12])\n"
   ]
  },
  {
   "cell_type": "code",
   "execution_count": null,
   "id": "43d08056",
   "metadata": {},
   "outputs": [],
   "source": [
    "Butter_prices=pd.DataFrame(price.reshape(1,3),index=[\"Price\"],columns=(\"Almond Butter\",\"Peanut Butter\",\"Cashew Butter\"))\n",
    "Butter_prices"
   ]
  },
  {
   "cell_type": "code",
   "execution_count": null,
   "id": "f8af172f",
   "metadata": {},
   "outputs": [],
   "source": [
    "total=butter_sales.dot(price)\n",
    "total"
   ]
  },
  {
   "cell_type": "code",
   "execution_count": null,
   "id": "29f17666",
   "metadata": {},
   "outputs": [],
   "source": [
    "sales.shape,Butter_prices.shape"
   ]
  },
  {
   "cell_type": "code",
   "execution_count": null,
   "id": "605cc73b",
   "metadata": {},
   "outputs": [],
   "source": [
    "daily_sales=sales.dot(Butter_prices.T)\n",
    "daily_sales"
   ]
  },
  {
   "cell_type": "code",
   "execution_count": null,
   "id": "40f92163",
   "metadata": {},
   "outputs": [],
   "source": [
    "sales[\"Total ($)\"]=daily_sales\n",
    "sales"
   ]
  },
  {
   "cell_type": "markdown",
   "id": "85d0eb8b",
   "metadata": {},
   "source": [
    "##  Image Processing using NumPy"
   ]
  },
  {
   "cell_type": "markdown",
   "id": "d5cb4414",
   "metadata": {},
   "source": [
    "import pandas as pd\n",
    "< img src=\"logo.png\"/>\n"
   ]
  },
  {
   "cell_type": "code",
   "execution_count": 51,
   "id": "b77ecf54",
   "metadata": {},
   "outputs": [
    {
     "ename": "SyntaxError",
     "evalue": "invalid syntax (2250491678.py, line 3)",
     "output_type": "error",
     "traceback": [
      "\u001b[1;36m  Cell \u001b[1;32mIn[51], line 3\u001b[1;36m\u001b[0m\n\u001b[1;33m    <img src = \"Images/photo personal.jpg\"/>\u001b[0m\n\u001b[1;37m    ^\u001b[0m\n\u001b[1;31mSyntaxError\u001b[0m\u001b[1;31m:\u001b[0m invalid syntax\n"
     ]
    }
   ],
   "source": [
    "import pandas as pd \n",
    "\n",
    "<img src = \"Images/photo personal.jpg\"/>"
   ]
  },
  {
   "cell_type": "code",
   "execution_count": null,
   "id": "d49bce50",
   "metadata": {},
   "outputs": [],
   "source": []
  },
  {
   "cell_type": "code",
   "execution_count": null,
   "id": "78c7e9e9",
   "metadata": {},
   "outputs": [],
   "source": []
  },
  {
   "cell_type": "code",
   "execution_count": null,
   "id": "0556dc1b",
   "metadata": {},
   "outputs": [],
   "source": []
  },
  {
   "cell_type": "code",
   "execution_count": null,
   "id": "3212527c",
   "metadata": {},
   "outputs": [],
   "source": []
  },
  {
   "cell_type": "code",
   "execution_count": null,
   "id": "cc47f9d6",
   "metadata": {},
   "outputs": [],
   "source": []
  }
 ],
 "metadata": {
  "kernelspec": {
   "display_name": "Python 3 (ipykernel)",
   "language": "python",
   "name": "python3"
  },
  "language_info": {
   "codemirror_mode": {
    "name": "ipython",
    "version": 3
   },
   "file_extension": ".py",
   "mimetype": "text/x-python",
   "name": "python",
   "nbconvert_exporter": "python",
   "pygments_lexer": "ipython3",
   "version": "3.11.2"
  }
 },
 "nbformat": 4,
 "nbformat_minor": 5
}
